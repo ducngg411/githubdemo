{
 "cells": [
  {
   "cell_type": "code",
   "execution_count": 2,
   "metadata": {},
   "outputs": [
    {
     "name": "stdout",
     "output_type": "stream",
     "text": [
      "06 02\n"
     ]
    }
   ],
   "source": [
    "n = int(input(\"Nhập số nguyên có 3 chữ số: \"))\n",
    "\n",
    "first_two_digits = n // 100    # Lấy 2 chữ số đầu bằng cách chia lấy phần nguyên cho 100\n",
    "last_two_digits = n % 100      # Lấy 2 chữ số cuối bằng cách lấy phần dư của phép chia cho 100\n",
    "\n",
    "result = \"{:02d} {:02d}\".format(first_two_digits, last_two_digits)\n",
    "print(result)"
   ]
  },
  {
   "cell_type": "code",
   "execution_count": 7,
   "metadata": {},
   "outputs": [
    {
     "name": "stdout",
     "output_type": "stream",
     "text": [
      "6\n"
     ]
    }
   ],
   "source": [
    "a = float(input())\n",
    "format = round(a)\n",
    "print(round(a))"
   ]
  },
  {
   "cell_type": "code",
   "execution_count": 5,
   "metadata": {},
   "outputs": [
    {
     "name": "stdout",
     "output_type": "stream",
     "text": [
      "3\n",
      "chua may man\n"
     ]
    }
   ],
   "source": [
    "#0019\n",
    "\n",
    "a = int(input())\n",
    "\n",
    "tong = sum(map(int, str(a)))\n",
    "nod = tong % 10\n",
    "print(nod)\n",
    "if nod == 9:\n",
    "    print('may man')\n",
    "else:\n",
    "    print('chua may man')"
   ]
  },
  {
   "cell_type": "code",
   "execution_count": 9,
   "metadata": {},
   "outputs": [
    {
     "name": "stdout",
     "output_type": "stream",
     "text": [
      "8 1 0\n"
     ]
    }
   ],
   "source": [
    "#0020\n",
    "\n",
    "n = int(input())\n",
    "x = n // 5000\n",
    "y = (n - (x * 5000)) // 2000\n",
    "z = ((n - (x * 5000)) - (y * 2000)) // 1000\n",
    "\n",
    "\n",
    "if n % 1000 == 0:\n",
    "    print(f'{x} {y} {z}')\n"
   ]
  },
  {
   "cell_type": "code",
   "execution_count": 14,
   "metadata": {},
   "outputs": [
    {
     "name": "stdout",
     "output_type": "stream",
     "text": [
      "815000\n"
     ]
    }
   ],
   "source": [
    "#0021\n",
    "\n",
    "n = int(input())\n",
    "z = n - 1\n",
    "y = n - 30 \n",
    "\n",
    "if n == 1:\n",
    "    tien_taxi = 12000\n",
    "    print(tien_taxi)\n",
    "elif 2 <= n <= 30:\n",
    "    tien_taxi = 12000 + (z * 10000 )\n",
    "    print(tien_taxi)\n",
    "elif n >= 31:\n",
    "    tien_taxi = 12000 + 29 * 10000 + y * 9000\n",
    "    print(tien_taxi)\n",
    "        \n"
   ]
  },
  {
   "cell_type": "code",
   "execution_count": 1,
   "metadata": {},
   "outputs": [
    {
     "name": "stdout",
     "output_type": "stream",
     "text": [
      "22800\n"
     ]
    }
   ],
   "source": [
    "#0022\n",
    "\n",
    "a = int(input())\n",
    "\n",
    "if 0 <= a <= 50:\n",
    "    tien_dien =  a * 600\n",
    "    print(tien_dien)\n",
    "elif 51 <=  a <= 100:\n",
    "    tien_dien = 50* 600 + ( a - 50)* 800\n",
    "    print(tien_dien)\n",
    "elif 101 <=  a <= 200:\n",
    "    tien_dien = 50 * 600 + 50 * 800 + (a - 100) * 1100\n",
    "    print(tien_dien)\n",
    "elif 201 <= a:\n",
    "    tien_dien = 50 * 600 + 50 * 800 + 100 * 1100 + (a - 200) * 1500\n",
    "    print(tien_dien)"
   ]
  },
  {
   "cell_type": "code",
   "execution_count": 3,
   "metadata": {},
   "outputs": [],
   "source": [
    "for x in [0, 1, 2]:\n",
    "    pass"
   ]
  },
  {
   "cell_type": "code",
   "execution_count": 5,
   "metadata": {},
   "outputs": [
    {
     "name": "stdout",
     "output_type": "stream",
     "text": [
      "-\n"
     ]
    }
   ],
   "source": [
    "#0023\n",
    "\n",
    "n = int(input())\n",
    "\n",
    "for i in range (1, n+1):\n",
    "    if i % 3 == 0:\n",
    "        print(i, end=' ')\n",
    "if n == 1 or n == 2:\n",
    "    print('-')\n",
    "\n"
   ]
  },
  {
   "cell_type": "code",
   "execution_count": 23,
   "metadata": {},
   "outputs": [
    {
     "name": "stdout",
     "output_type": "stream",
     "text": [
      "4\n"
     ]
    }
   ],
   "source": [
    "#0024\n",
    "\n",
    "n = int(input())\n",
    "\n",
    "count = 0\n",
    "for i in range(1, n+1):\n",
    "    if i % 3 == 0:\n",
    "        count += 1\n",
    "\n",
    "print(count)\n"
   ]
  },
  {
   "cell_type": "code",
   "execution_count": 2,
   "metadata": {},
   "outputs": [
    {
     "name": "stdout",
     "output_type": "stream",
     "text": [
      "True\n"
     ]
    }
   ],
   "source": [
    "import math\n",
    "\n",
    "def is_prime(n):\n",
    "    if n <= 1:\n",
    "        return False\n",
    "\n",
    "    # Check for divisibility from 2 to the square root of n\n",
    "    for i in range(2, int(math.sqrt(n)) + 1):\n",
    "        if n % i == 0:\n",
    "            return False\n",
    "\n",
    "    return True\n",
    "\n",
    "print(is_prime(7))"
   ]
  }
 ],
 "metadata": {
  "kernelspec": {
   "display_name": "Python 3",
   "language": "python",
   "name": "python3"
  },
  "language_info": {
   "codemirror_mode": {
    "name": "ipython",
    "version": 3
   },
   "file_extension": ".py",
   "mimetype": "text/x-python",
   "name": "python",
   "nbconvert_exporter": "python",
   "pygments_lexer": "ipython3",
   "version": "3.11.3"
  },
  "orig_nbformat": 4
 },
 "nbformat": 4,
 "nbformat_minor": 2
}
