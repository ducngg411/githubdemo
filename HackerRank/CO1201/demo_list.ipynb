{
 "cells": [
  {
   "cell_type": "code",
   "execution_count": 71,
   "metadata": {},
   "outputs": [],
   "source": [
    "#Declare a list\n",
    "a =[] # empty list\n",
    "b = ['1'] #a list of only 1 element of string\n",
    "c = [1,2,3] # a list of 3 elements of integers\n",
    "d = [1.5, 0.4, -2.3]  # a list of 3 elements of floats\n",
    "e = [True, False, False, True] # a list of 4 elements of booleans\n",
    "f = [1, '2', 3.0, True] # a list of 4 elements of different types"
   ]
  },
  {
   "cell_type": "code",
   "execution_count": 72,
   "metadata": {},
   "outputs": [
    {
     "name": "stdout",
     "output_type": "stream",
     "text": [
      "['1', 1, 2, 3]\n",
      "[1, 2, 3, 1, 2, 3]\n",
      "2 is in c\n",
      "100 is not in c\n"
     ]
    }
   ],
   "source": [
    "1 # List operators: +, *, in, not in \n",
    "g = b + c  # concatenate 2 lists\n",
    "print(g)\n",
    "h = c * 2 # duplicate a list\n",
    "print(h)\n",
    "if 2 in c:\n",
    "    print('2 is in c')\n",
    "if 100 not in c:\n",
    "    print('100 is not in c')"
   ]
  },
  {
   "cell_type": "code",
   "execution_count": 73,
   "metadata": {},
   "outputs": [
    {
     "name": "stdout",
     "output_type": "stream",
     "text": [
      "[73, 51, 91, 70, 5, 59, 15, 19, 49, 98]\n",
      "10\n",
      "5\n",
      "98\n",
      "530\n",
      "[5, 15, 19, 49, 51, 59, 70, 73, 91, 98]\n",
      "[98, 91, 73, 70, 59, 51, 49, 19, 15, 5]\n"
     ]
    }
   ],
   "source": [
    "import random as rd\n",
    "#Functions for list: len(), min(), max(), sum()\n",
    "numbers =  rd.sample(range(1, 100),10) # generate 10 random numbers from 1 to 99\n",
    "print(numbers)\n",
    "print(len(numbers)) # length of a list\n",
    "print(min(numbers)) # minium value of a list\n",
    "print(max(numbers)) # maximum value of a list\n",
    "print(sum(numbers)) # sum of all values of a list\n",
    "sorted_numbers = sorted(numbers) # return a new list of sorted values, originals list is not changed\n",
    "print(sorted_numbers)\n",
    "sorted_numbers = sorted(numbers, reverse=True) # Return a new list of sorted values in reverse order\n",
    "print(sorted_numbers)"
   ]
  },
  {
   "cell_type": "code",
   "execution_count": 74,
   "metadata": {},
   "outputs": [
    {
     "name": "stdout",
     "output_type": "stream",
     "text": [
      "[1, 2, 3, 4]\n",
      "[1, 2, 3, 4, ['a', 'b', 'c']]\n",
      "5\n"
     ]
    }
   ],
   "source": [
    "# List functions: append(), insert(), remove(), pop(), clear()\n",
    "a = [1,2,3]\n",
    "a.append(4)\n",
    "print(a)\n",
    "b = ['a', 'b', 'c']\n",
    "a.append(b) # append a list to the end of the list\n",
    "print(a)\n",
    "print(len(a))"
   ]
  },
  {
   "cell_type": "code",
   "execution_count": 75,
   "metadata": {},
   "outputs": [
    {
     "name": "stdout",
     "output_type": "stream",
     "text": [
      "[1, 100, 2, 3]\n",
      "[1, 100, 2]\n",
      "[1, 2]\n"
     ]
    }
   ],
   "source": [
    "a = [1, 2, 3]\n",
    "a.insert(1, 100) # insert 100 at index 1\n",
    "print(a)\n",
    "a.pop()  # remove the last element\n",
    "print(a)\n",
    "a.remove(100) # remove the first element with value 100\n",
    "print(a)"
   ]
  },
  {
   "cell_type": "code",
   "execution_count": 76,
   "metadata": {},
   "outputs": [
    {
     "name": "stdout",
     "output_type": "stream",
     "text": [
      "[1, 3, 2, 4, 2]\n",
      "[]\n"
     ]
    }
   ],
   "source": [
    "a = [1, 2, 3, 2, 4, 2] # remove the 1st element with value 2\n",
    "a.remove(2)\n",
    "print(a)\n",
    "a.clear() # remove all elements\n",
    "print(a)"
   ]
  },
  {
   "cell_type": "code",
   "execution_count": 77,
   "metadata": {},
   "outputs": [
    {
     "name": "stdout",
     "output_type": "stream",
     "text": [
      "[34, 17, 19, 77, 37, 3, 36, 55, 32, 13]\n",
      "34\n",
      "13\n"
     ]
    }
   ],
   "source": [
    "# Accessing list elements: zero-based indexing \n",
    "a = rd.sample(range(1, 100), 10)\n",
    "print(a)\n",
    "print(a[0]) # first element\n",
    "print(a[9]) # last element"
   ]
  },
  {
   "cell_type": "code",
   "execution_count": 78,
   "metadata": {},
   "outputs": [
    {
     "name": "stdout",
     "output_type": "stream",
     "text": [
      "13\n",
      "34\n"
     ]
    }
   ],
   "source": [
    "# Negative index: from -1 to -10\n",
    "print(a[-1]) # last element\n",
    "print(a[-10]) # first element"
   ]
  },
  {
   "cell_type": "code",
   "execution_count": 79,
   "metadata": {},
   "outputs": [
    {
     "name": "stdout",
     "output_type": "stream",
     "text": [
      "[34, 17, 19, 77, 37, 3, 36, 55, 32, 13]\n",
      "[17, 19, 77]\n",
      "[3, 36, 55, 32]\n",
      "[34, 17, 19, 77]\n",
      "[36, 55, 32, 13]\n",
      "[36, 55, 32, 13]\n"
     ]
    }
   ],
   "source": [
    "# Slicing a list (simple form): list[start:end]\n",
    "print(a)\n",
    "b = a[1:4] # get new list for, index 1 to 3\n",
    "print(b)\n",
    "c = a[5:9] # get new list from index 5 to 8\n",
    "print(c)\n",
    "# get the first 4 elements\n",
    "print(a[:4])\n",
    "# get the last 4 elements\n",
    "print(a[6:])\n",
    "print(a[-4:])"
   ]
  },
  {
   "cell_type": "code",
   "execution_count": 80,
   "metadata": {},
   "outputs": [
    {
     "name": "stdout",
     "output_type": "stream",
     "text": [
      "[34, 17, 19, 77, 37, 3, 36, 55, 32, 13]\n",
      "[17, 77, 3]\n",
      "[34, 19, 37, 36, 32]\n",
      "[13, 32, 55, 36, 3, 37, 77, 19, 17, 34]\n",
      "[36, 3, 37, 77, 19]\n"
     ]
    }
   ],
   "source": [
    "# slice a list (extended form): list[start:end: step]\n",
    "print(a)\n",
    "print(a[1:6:2]) # start from index 1, skip 2 elements , up to index 5\n",
    "print(a[::2]) # start form index 0, skip 2 elements, up to the end\n",
    "# using slicing to reverse a list\n",
    "print(a[::-1]) # start form the end, skip  1 element, up to the beginning\n",
    "print(a[6:1:-1])"
   ]
  },
  {
   "cell_type": "code",
   "execution_count": 81,
   "metadata": {},
   "outputs": [],
   "source": [
    "#Popular list algorithms: sum, max, min ,count, find, sort\n"
   ]
  },
  {
   "cell_type": "code",
   "execution_count": 82,
   "metadata": {},
   "outputs": [
    {
     "name": "stdout",
     "output_type": "stream",
     "text": [
      "[83, 89, 45, 93, 49, 43, 37, 64, 96, 65]\n"
     ]
    }
   ],
   "source": [
    "import random as rd\n",
    "numbers = rd.sample(range(1,100),10) # create a list of 10 random numbers from 1 to 99\n",
    "print(numbers)"
   ]
  },
  {
   "cell_type": "code",
   "execution_count": 3,
   "metadata": {},
   "outputs": [
    {
     "ename": "NameError",
     "evalue": "name 'numbers' is not defined",
     "output_type": "error",
     "traceback": [
      "\u001b[1;31m---------------------------------------------------------------------------\u001b[0m",
      "\u001b[1;31mNameError\u001b[0m                                 Traceback (most recent call last)",
      "Cell \u001b[1;32mIn[3], line 2\u001b[0m\n\u001b[0;32m      1\u001b[0m s \u001b[39m=\u001b[39m \u001b[39m0\u001b[39m\n\u001b[1;32m----> 2\u001b[0m \u001b[39mfor\u001b[39;00m n \u001b[39min\u001b[39;00m numbers:\n\u001b[0;32m      3\u001b[0m     s \u001b[39m=\u001b[39m s \u001b[39m+\u001b[39m n \u001b[39m# s += n\u001b[39;00m\n\u001b[0;32m      4\u001b[0m \u001b[39mprint\u001b[39m(\u001b[39mf\u001b[39m\u001b[39m'\u001b[39m\u001b[39mSum of numbers: \u001b[39m\u001b[39m{\u001b[39;00ms\u001b[39m}\u001b[39;00m\u001b[39m'\u001b[39m)\n",
      "\u001b[1;31mNameError\u001b[0m: name 'numbers' is not defined"
     ]
    }
   ],
   "source": [
    "s = 0\n",
    "for n in numbers:\n",
    "    s = s + n # s += n\n",
    "print(f'Sum of numbers: {s}')\n",
    "\n",
    "s = 0\n",
    "for i in range(len(numbers)):\n",
    "    s = s + numbers[i]\n",
    "\n",
    "print(f'Sum of numbers: {s}')\n",
    "\n"
   ]
  },
  {
   "cell_type": "code",
   "execution_count": 84,
   "metadata": {},
   "outputs": [
    {
     "name": "stdout",
     "output_type": "stream",
     "text": [
      "Maximum number:96\n",
      "Maximum of number: 96\n"
     ]
    }
   ],
   "source": [
    "m = numbers[0]\n",
    "for n in numbers:\n",
    "    if n > m:\n",
    "        m = n\n",
    "print(f'Maximum number:{m}')\n",
    "\n",
    "for i in range(len(numbers)):\n",
    "    if numbers[1] > m:\n",
    "        m = numbers[i]\n",
    "print(f'Maximum of number: {m}')"
   ]
  },
  {
   "cell_type": "code",
   "execution_count": 85,
   "metadata": {},
   "outputs": [
    {
     "name": "stdout",
     "output_type": "stream",
     "text": [
      "Minium of number: 37\n"
     ]
    }
   ],
   "source": [
    "\n",
    "for i in range(len(numbers)):\n",
    "    if numbers[i] < m:\n",
    "        m = numbers[i]\n",
    "print(f'Minium of number: {m}')"
   ]
  },
  {
   "cell_type": "code",
   "execution_count": 86,
   "metadata": {},
   "outputs": [
    {
     "name": "stdout",
     "output_type": "stream",
     "text": [
      "The fruit that has the highest price is lemon with price 5.5\n"
     ]
    }
   ],
   "source": [
    "groceries = ['apple','mango','kiwi','lemon','coco']\n",
    "prices = [2.5, 4.5, 4.0, 5.5, 3.5]\n",
    "# Find the fruit that has the highest price\n",
    "i_max = 0\n",
    "prices_max = prices[0]\n",
    "\n",
    "for i in range(len(prices)):\n",
    "    if prices[i] > prices_max:\n",
    "        prices_max = prices[i]\n",
    "        i_max = i\n",
    "\n",
    "print(f'The fruit that has the highest price is {groceries[i_max]} with price {prices_max}')"
   ]
  },
  {
   "cell_type": "code",
   "execution_count": 87,
   "metadata": {},
   "outputs": [
    {
     "name": "stdout",
     "output_type": "stream",
     "text": [
      "The fruit that has the lowest price is apple with price 2.5\n"
     ]
    }
   ],
   "source": [
    "groceries = ['apple', 'mango', 'kiwi', 'lemon', 'coco']\n",
    "prices = [2.5, 4.5, 4.0, 5.5, 3.5]\n",
    "# Find the fruit that has the lowest price\n",
    "i_min = 0\n",
    "prices_min = prices[0]\n",
    "\n",
    "for i in range(len(prices)):\n",
    "    if prices[i] < prices_min:\n",
    "        prices_min = prices[i]\n",
    "        i_min = i\n",
    "print(f'The fruit that has the lowest price is {groceries[i_min]} with price {prices_min}')"
   ]
  },
  {
   "cell_type": "code",
   "execution_count": 88,
   "metadata": {},
   "outputs": [
    {
     "name": "stdout",
     "output_type": "stream",
     "text": [
      "Number of even numbers:2\n"
     ]
    }
   ],
   "source": [
    "count = 0\n",
    "for n in numbers:\n",
    "    if n % 2 == 0:\n",
    "        count += 1\n",
    "print(f'Number of even numbers:{count}')"
   ]
  },
  {
   "cell_type": "code",
   "execution_count": 89,
   "metadata": {},
   "outputs": [],
   "source": [
    "products = ['notebook', 'pencil', 'pen', 'eraser', 'ruler', 'sharpener']\n",
    "stocks = [100, 120, 80, 50, 60, 90]\n",
    "prices = [2.5, 1.5, 2.0, 1.0, 1.5, 1.0]\n",
    "# Count how many products that has total value greater than 100"
   ]
  },
  {
   "cell_type": "code",
   "execution_count": 90,
   "metadata": {},
   "outputs": [
    {
     "name": "stdout",
     "output_type": "stream",
     "text": [
      "Number of products that has total value greater than 100: 5\n"
     ]
    }
   ],
   "source": [
    "counts= 0\n",
    "for i in range(len(prices)):\n",
    "    if prices[i] * stocks[i] > 100:\n",
    "        count += 1\n",
    "print(f'Number of products that has total value greater than 100: {count}')"
   ]
  },
  {
   "cell_type": "code",
   "execution_count": 91,
   "metadata": {},
   "outputs": [
    {
     "name": "stdout",
     "output_type": "stream",
     "text": [
      "Product John not found\n"
     ]
    }
   ],
   "source": [
    "#Enter the product name, print the price & stock\n",
    "name = input('Enter the product name: ')\n",
    "found_pos = None\n",
    "for i in range(len(products)):\n",
    "    if products[i] == name:\n",
    "        found_pos = 1\n",
    "        break\n",
    "if found_pos == None:\n",
    "    print(f'Product {name} not found')\n",
    "else:\n",
    "    print(f'Price: {prices[found_pos]}, Stock: {stocks[found_pos]}')"
   ]
  },
  {
   "cell_type": "code",
   "execution_count": 92,
   "metadata": {},
   "outputs": [
    {
     "name": "stdout",
     "output_type": "stream",
     "text": [
      "Found products:"
     ]
    }
   ],
   "source": [
    "# Find products with price >= 2.0\n",
    "found_products = []\n",
    "for i in range(len(prices)):\n",
    "    if prices[i] >= 2.0:\n",
    "        found_products.append(products[i])\n",
    "\n",
    "if len(found_products) == 0:\n",
    "    print('No product found')\n",
    "else:\n",
    "    print('Found products:', end='')\n",
    "\n",
    "# Find products with total value <= 150\n"
   ]
  },
  {
   "cell_type": "code",
   "execution_count": 93,
   "metadata": {},
   "outputs": [],
   "source": [
    "students = ['John','Peter','Mary','Jane','Tom','Jerry','Alice','Bob']\n",
    "departments = ['IT','GD','IT','Biz','Biz','GD','IT','GD']\n",
    "GPAs = [3.5, 3.0, 3.2,2.6, 3.8, 3.9, 3.7, 3.4]"
   ]
  },
  {
   "cell_type": "code",
   "execution_count": null,
   "metadata": {},
   "outputs": [],
   "source": [
    "# Enter student name, find students and print his/her GPA and department\n",
    "#Enter the product name, print the price & stock\n",
    "name = input('Enter the student name: ')\n",
    "found_students = None\n",
    "for i in range(len(students)):\n",
    "    if students[i] == name:\n",
    "        found_students = 1\n",
    "        break\n",
    "if found_students == None:\n",
    "    print(f'Students {name} not found')\n",
    "else:\n",
    "    print(f'departments: {departments[found_students]}, GPAs: {GPAs[found_students]}')\n",
    "        "
   ]
  },
  {
   "cell_type": "code",
   "execution_count": 97,
   "metadata": {},
   "outputs": [
    {
     "name": "stdout",
     "output_type": "stream",
     "text": [
      "Student name: Peter, GPAs: 3.0\n"
     ]
    }
   ],
   "source": [
    "# Enter department name, find students in that department and print their names and GPAs\n",
    "name = input('Enter the department name: ')\n",
    "found_departments = None\n",
    "for i in range(len(departments)):\n",
    "    if departments[i] == name:\n",
    "        found_departments = 1\n",
    "        break\n",
    "if found_departments == None:\n",
    "    print(f'Departments {name} not found')\n",
    "else:\n",
    "    print(f'Student name: {students[found_departments]}, GPAs: {GPAs[found_departments]}')"
   ]
  },
  {
   "cell_type": "code",
   "execution_count": 1,
   "metadata": {},
   "outputs": [
    {
     "name": "stdout",
     "output_type": "stream",
     "text": [
      "Best students is Jerry, GPA: 3.9\n"
     ]
    }
   ],
   "source": [
    "# Find best student (highest GPA)\n",
    "students = ['John','Peter','Mary','Jane','Tom','Jerry','Alice','Bob']\n",
    "departments = ['IT','GD','IT','Biz','Biz','GD','IT','GD']\n",
    "GPAs = [3.5, 3.0, 3.2,2.6, 3.8, 3.9, 3.7, 3.4]\n",
    "\n",
    "students_max = 0\n",
    "GPA_max = GPAs[0]\n",
    "\n",
    "for i in range(len(GPAs)):\n",
    "    if GPAs[i] > GPA_max:\n",
    "        GPA_max = GPAs[i]\n",
    "        students_max = i \n",
    "\n",
    "print(f'Best students is {students[students_max]}, GPA: {GPA_max}')\n",
    "\n"
   ]
  },
  {
   "cell_type": "code",
   "execution_count": 8,
   "metadata": {},
   "outputs": [
    {
     "name": "stdout",
     "output_type": "stream",
     "text": [
      "Have 7 students have GPA >= 3.0\n"
     ]
    }
   ],
   "source": [
    "# Enter a GPA, count how many students have GPA >= that GPA\n",
    "students = ['John','Peter','Mary','Jane','Tom','Jerry','Alice','Bob']\n",
    "departments = ['IT','GD','IT','Biz','Biz','GD','IT','GD']\n",
    "GPAs = [3.5, 3.0, 3.2,2.6, 3.8, 3.9, 3.7, 3.4]\n",
    "\n",
    "\n",
    "gpa_int = float(input('Enter a GPA: '))\n",
    "students_max = 0 \n",
    "count = []\n",
    "\n",
    "\n",
    "for i in range(len((GPAs))):\n",
    "    if GPAs[i] >= gpa_int:\n",
    "        n = GPAs[i]\n",
    "        count.append(n)\n",
    "\n",
    "\n",
    "print(f'Have {len(count)} students have GPA >= {gpa_int}')"
   ]
  },
  {
   "cell_type": "code",
   "execution_count": 15,
   "metadata": {},
   "outputs": [
    {
     "name": "stdout",
     "output_type": "stream",
     "text": [
      "27.099999999999994\n"
     ]
    }
   ],
   "source": [
    "# Calculate average GPA of students in all departments\n",
    "\n",
    "GPAs = [3.5, 3.0, 3.2,2.6, 3.8, 3.9, 3.7, 3.4]\n",
    "\n",
    "print(f'{sum(GPAs)}')\n"
   ]
  },
  {
   "cell_type": "code",
   "execution_count": 10,
   "metadata": {},
   "outputs": [],
   "source": [
    "# Calculate average GPA of students in each department"
   ]
  },
  {
   "cell_type": "code",
   "execution_count": null,
   "metadata": {},
   "outputs": [],
   "source": []
  }
 ],
 "metadata": {
  "kernelspec": {
   "display_name": "Python 3",
   "language": "python",
   "name": "python3"
  },
  "language_info": {
   "codemirror_mode": {
    "name": "ipython",
    "version": 3
   },
   "file_extension": ".py",
   "mimetype": "text/x-python",
   "name": "python",
   "nbconvert_exporter": "python",
   "pygments_lexer": "ipython3",
   "version": "3.11.3"
  },
  "orig_nbformat": 4
 },
 "nbformat": 4,
 "nbformat_minor": 2
}
