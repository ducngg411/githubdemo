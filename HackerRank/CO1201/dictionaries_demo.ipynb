{
 "cells": [
  {
   "cell_type": "code",
   "execution_count": 12,
   "metadata": {},
   "outputs": [
    {
     "name": "stdout",
     "output_type": "stream",
     "text": [
      "bonjour\n"
     ]
    }
   ],
   "source": [
    "english_words = {'hello': 'bonjour','morning': 'matin','world': 'monde'}\n",
    "print(english_words['hello'])"
   ]
  },
  {
   "cell_type": "code",
   "execution_count": 11,
   "metadata": {},
   "outputs": [
    {
     "name": "stdout",
     "output_type": "stream",
     "text": [
      "Word ducnguyen not found in dictionary\n"
     ]
    }
   ],
   "source": [
    "word = input('Enter an English word: ')\n",
    "if word in english_words:\n",
    "    print('French translation: ', english_words[word])\n",
    "else: \n",
    "    print(f'Word {word} not found in dictionary')"
   ]
  },
  {
   "cell_type": "code",
   "execution_count": 2,
   "metadata": {},
   "outputs": [
    {
     "name": "stdout",
     "output_type": "stream",
     "text": [
      "{'hello': 'bonjour', 'morning': 'matin', 'world': 'monde', 'ducnguyen': 'deptrai'}\n"
     ]
    }
   ],
   "source": [
    "new_word = input('Enter a new word: ')\n",
    "new_french_translation = input('Enter the French translation: ')\n",
    "if new_word not in english_words:\n",
    "    english_words[new_word] = new_french_translation\n",
    "    print(english_words)\n",
    "else:\n",
    "    print(f'{english_words} is already in the dictionary')"
   ]
  },
  {
   "cell_type": "code",
   "execution_count": 5,
   "metadata": {},
   "outputs": [
    {
     "name": "stdout",
     "output_type": "stream",
     "text": [
      "ducbanh not in the dictionary\n"
     ]
    }
   ],
   "source": [
    "find_dic = input('Enter a word in the dictionary: ')\n",
    "new_trans = input('Enter new translation of word: ')\n",
    "if find_dic in english_words:\n",
    "    english_words[find_dic] = new_trans\n",
    "    print(english_words)\n",
    "else:\n",
    "    print(f'{find_dic} not in the dictionary')"
   ]
  },
  {
   "cell_type": "code",
   "execution_count": 15,
   "metadata": {},
   "outputs": [
    {
     "name": "stdout",
     "output_type": "stream",
     "text": [
      "{'morning': 'matin', 'world': 'monde'}\n"
     ]
    }
   ],
   "source": [
    "delete_word = input('Enter a word to delete: ')\n",
    "if delete_word in english_words:\n",
    "    del english_words[delete_word] # similar to english_Words.pop(delete_Word)\n",
    "    print(english_words)\n",
    "else:\n",
    "    print(f'{delete_word} not found')"
   ]
  },
  {
   "cell_type": "code",
   "execution_count": 18,
   "metadata": {},
   "outputs": [
    {
     "name": "stdout",
     "output_type": "stream",
     "text": [
      "{'world': 'monde'}\n"
     ]
    }
   ],
   "source": [
    "delete_word = input('Enter a word to delete: ')\n",
    "if delete_word in english_words:\n",
    "    english_words.pop(delete_word)\n",
    "    print(english_words)\n",
    "else: \n",
    "    print(f'{delete_word} not found')"
   ]
  },
  {
   "cell_type": "code",
   "execution_count": 22,
   "metadata": {},
   "outputs": [
    {
     "name": "stdout",
     "output_type": "stream",
     "text": [
      "153\n",
      "106\n",
      "Vietnam: 6\n",
      "went: 1\n",
      "through: 1\n",
      "prolonged: 1\n",
      "warfare: 1\n",
      "in: 5\n",
      "the: 16\n",
      "20th: 1\n",
      "century.: 1\n",
      "After: 1\n",
      "World: 1\n",
      "War: 2\n",
      "II,: 1\n",
      "France: 1\n",
      "returned: 1\n",
      "to: 3\n",
      "reclaim: 1\n",
      "colonial: 1\n",
      "power: 1\n",
      "First: 1\n",
      "Indochina: 1\n",
      "War,: 1\n",
      "from: 1\n",
      "which: 1\n",
      "emerged: 1\n",
      "victorious: 1\n",
      "1954.: 1\n",
      "As: 1\n",
      "a: 4\n",
      "result: 1\n",
      "of: 2\n",
      "treaties: 1\n",
      "signed: 1\n",
      "between: 2\n",
      "Viet: 1\n",
      "Minh: 1\n",
      "and: 7\n",
      "France,: 1\n",
      "was: 1\n",
      "also: 1\n",
      "separated: 1\n",
      "into: 2\n",
      "two: 1\n",
      "parts.: 1\n",
      "The: 2\n",
      "began: 1\n",
      "shortly: 1\n",
      "after,: 1\n",
      "communist: 1\n",
      "North,: 1\n",
      "supported: 2\n",
      "by: 3\n",
      "Soviet: 1\n",
      "Union: 1\n",
      "China,: 1\n",
      "anti-communist: 1\n",
      "South,: 1\n",
      "United: 1\n",
      "States.: 1\n",
      "Upon: 1\n",
      "North: 1\n",
      "Vietnamese: 2\n",
      "victory: 1\n",
      "1975,: 1\n",
      "reunified: 1\n",
      "as: 1\n",
      "unitary: 1\n",
      "socialist: 1\n",
      "state: 1\n",
      "under: 1\n",
      "Communist: 1\n",
      "Party: 1\n",
      "(CPV): 1\n",
      "1976.: 1\n",
      "An: 1\n",
      "ineffective: 1\n",
      "planned: 1\n",
      "economy,: 1\n",
      "trade: 1\n",
      "embargo: 1\n",
      "West,: 1\n",
      "wars: 1\n",
      "with: 1\n",
      "Cambodia: 1\n",
      "China: 1\n",
      "crippled: 1\n",
      "country: 2\n",
      "further.: 1\n",
      "In: 1\n",
      "1986,: 1\n",
      "CPV: 1\n",
      "initiated: 1\n",
      "economic: 2\n",
      "political: 1\n",
      "reforms: 2\n",
      "similar: 1\n",
      "Chinese: 1\n",
      "reform,: 1\n",
      "transforming: 1\n",
      "market-oriented: 1\n",
      "economy.: 1\n",
      "facilitated: 1\n",
      "reintegration: 1\n",
      "global: 1\n",
      "economy: 1\n",
      "politics.: 1\n"
     ]
    }
   ],
   "source": [
    "content = \" Vietnam went through prolonged warfare in the 20th century. After World War II, France returned to reclaim colonial power in the First Indochina War, from which Vietnam emerged victorious in 1954. As a result of the treaties signed between the Viet Minh and France, Vietnam was also separated into two parts. The Vietnam War began shortly after, between the communist North, supported by the Soviet Union and China, and the anti-communist South, supported by the United States. Upon the North Vietnamese victory in 1975, Vietnam reunified as a unitary socialist state under the Communist Party of Vietnam (CPV) in 1976. An ineffective planned economy, a trade embargo by the West, and wars with Cambodia and China crippled the country further. In 1986, the CPV initiated economic and political reforms similar to the Chinese economic reform, transforming the country to a market-oriented economy. The reforms facilitated Vietnamese reintegration into the global economy and politics.\"\n",
    "\n",
    "words = content.split()\n",
    "print(len(words))\n",
    "\n",
    "word_count = {}\n",
    "for w in words:\n",
    "    if w not in word_count:\n",
    "        word_count[w] = 1\n",
    "    else: \n",
    "        word_count[w] += 1\n",
    "\n",
    "print(len(word_count))\n",
    "\n",
    "for w in word_count:\n",
    "    print(f'{w}: {word_count[w]}')"
   ]
  },
  {
   "cell_type": "code",
   "execution_count": null,
   "metadata": {},
   "outputs": [],
   "source": []
  }
 ],
 "metadata": {
  "kernelspec": {
   "display_name": "Python 3",
   "language": "python",
   "name": "python3"
  },
  "language_info": {
   "codemirror_mode": {
    "name": "ipython",
    "version": 3
   },
   "file_extension": ".py",
   "mimetype": "text/x-python",
   "name": "python",
   "nbconvert_exporter": "python",
   "pygments_lexer": "ipython3",
   "version": "3.11.3"
  },
  "orig_nbformat": 4
 },
 "nbformat": 4,
 "nbformat_minor": 2
}
