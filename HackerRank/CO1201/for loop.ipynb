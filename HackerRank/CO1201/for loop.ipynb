{
 "cells": [
  {
   "cell_type": "code",
   "execution_count": 3,
   "metadata": {},
   "outputs": [
    {
     "name": "stdout",
     "output_type": "stream",
     "text": [
      "0 Hello\n",
      "1 Hello\n",
      "2 Hello\n",
      "3 Hello\n",
      "4 Hello\n",
      "5 Hello\n",
      "6 Hello\n",
      "7 Hello\n",
      "8 Hello\n",
      "9 Hello\n"
     ]
    }
   ],
   "source": [
    "# for syntax: for item in sequence:\n",
    "for i in range(10):\n",
    "    print(i,'Hello') "
   ]
  },
  {
   "cell_type": "code",
   "execution_count": 4,
   "metadata": {},
   "outputs": [
    {
     "name": "stdout",
     "output_type": "stream",
     "text": [
      "0 Hello\n",
      "2 Hello\n",
      "4 Hello\n",
      "6 Hello\n",
      "8 Hello\n"
     ]
    }
   ],
   "source": [
    "for i in range (0, 10, 2):\n",
    "    print(i, 'Hello')"
   ]
  },
  {
   "cell_type": "code",
   "execution_count": 5,
   "metadata": {},
   "outputs": [
    {
     "name": "stdout",
     "output_type": "stream",
     "text": [
      "10 Hello\n",
      "9 Hello\n",
      "8 Hello\n",
      "7 Hello\n",
      "6 Hello\n",
      "5 Hello\n",
      "4 Hello\n",
      "3 Hello\n",
      "2 Hello\n",
      "1 Hello\n"
     ]
    }
   ],
   "source": [
    "for i in range(10, 0, -1):\n",
    "    print(i, 'Hello')"
   ]
  },
  {
   "cell_type": "code",
   "execution_count": 7,
   "metadata": {},
   "outputs": [
    {
     "name": "stdout",
     "output_type": "stream",
     "text": [
      "sum form 1 to 1 is 1\n"
     ]
    }
   ],
   "source": [
    "#Sum form 1 to n\n",
    "n = int(input('Enter n:'))\n",
    "s = 0\n",
    "for i in range(1, n + 1):\n",
    "    s += i\n",
    "print('sum form 1 to',n,'is',s)"
   ]
  },
  {
   "cell_type": "code",
   "execution_count": 13,
   "metadata": {},
   "outputs": [
    {
     "name": "stdout",
     "output_type": "stream",
     "text": [
      "5! = 120\n"
     ]
    }
   ],
   "source": [
    "# Ex1: calculate n!\n",
    "\n",
    "n = int(input('Enter n:'))\n",
    "result = 1\n",
    "for i in range(1, n + 1):\n",
    "    result *= i\n",
    "print(f'{n}! = {result}')\n",
    "\n"
   ]
  },
  {
   "cell_type": "code",
   "execution_count": 15,
   "metadata": {},
   "outputs": [
    {
     "name": "stdout",
     "output_type": "stream",
     "text": [
      "Sum of even numbers from 1 to 5 is 6\n"
     ]
    }
   ],
   "source": [
    "#Ex2: Calculate sum of even numbers from 1 to n\n",
    "\n",
    "s = 0\n",
    "for i in range(2, n+1, 2):\n",
    "    s += i \n",
    "print(f'Sum of even numbers from 1 to {n} is {s}')"
   ]
  },
  {
   "cell_type": "code",
   "execution_count": 16,
   "metadata": {},
   "outputs": [
    {
     "name": "stdout",
     "output_type": "stream",
     "text": [
      "Product of odd numbers from 1 to 5 is 7\n"
     ]
    }
   ],
   "source": [
    "#Ex3: Calculate product of odd numbers from 1 to n\n",
    "\n",
    "s = 1\n",
    "for i in range(2,n + 1, 2):\n",
    "    s += i\n",
    "print(f'Product of odd numbers from 1 to {n} is {s}')\n"
   ]
  },
  {
   "cell_type": "code",
   "execution_count": null,
   "metadata": {},
   "outputs": [],
   "source": [
    "#Ex4: Print multiplication table of n\n",
    "\n",
    "n = int(input('Enter n:'))\n",
    "for i in range(1,11):\n",
    "    print(f'{n:2} x {i:2} = {n*i:2}')"
   ]
  },
  {
   "cell_type": "code",
   "execution_count": null,
   "metadata": {},
   "outputs": [],
   "source": [
    "#n Nested for loop\n",
    "# Print triangle of asterisks\n",
    "\n",
    "n = int(input('Enter n:'))\n",
    "for i in range(n+1):\n",
    "    for k in range(i):\n",
    "        print('*', end=' ')\n",
    "    print()\n"
   ]
  },
  {
   "cell_type": "code",
   "execution_count": null,
   "metadata": {},
   "outputs": [],
   "source": [
    "#Ex5.1: Print triangle of numbers\n",
    "\n",
    "n = int(input('Enter n:'))\n",
    "for i in range(1, n+1):\n",
    "    for k in range(i):\n",
    "        print(i, end=' ')\n",
    "    print()\n",
    "    "
   ]
  },
  {
   "cell_type": "code",
   "execution_count": 15,
   "metadata": {},
   "outputs": [
    {
     "name": "stdout",
     "output_type": "stream",
     "text": [
      "1 \n",
      "1 2 \n",
      "1 2 3 \n",
      "1 2 3 4 \n",
      "1 2 3 4 5 \n"
     ]
    }
   ],
   "source": [
    "#Ex5.2: print triangle of numbers\n",
    "\n",
    "for i in range(1, n+1):\n",
    "    for k in range(i):\n",
    "        print(k+1, end =' ')\n",
    "    print()"
   ]
  },
  {
   "cell_type": "code",
   "execution_count": 3,
   "metadata": {},
   "outputs": [
    {
     "name": "stdout",
     "output_type": "stream",
     "text": [
      "Your Shopping List: ['Apples', 'Bread', 'Milk', 'Eggs']\n"
     ]
    }
   ],
   "source": [
    "shopping_list = ['Apples', 'Bread', 'Milk', 'Eggs']\n",
    "clean_shopping_list = [item.replace(\"'\", \"\") for item in shopping_list]\n",
    "print(\"Your Shopping List:\", clean_shopping_list)\n"
   ]
  }
 ],
 "metadata": {
  "kernelspec": {
   "display_name": "Python 3",
   "language": "python",
   "name": "python3"
  },
  "language_info": {
   "codemirror_mode": {
    "name": "ipython",
    "version": 3
   },
   "file_extension": ".py",
   "mimetype": "text/x-python",
   "name": "python",
   "nbconvert_exporter": "python",
   "pygments_lexer": "ipython3",
   "version": "3.11.3"
  },
  "orig_nbformat": 4
 },
 "nbformat": 4,
 "nbformat_minor": 2
}
