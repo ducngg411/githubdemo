{
 "cells": [
  {
   "cell_type": "code",
   "execution_count": 1,
   "metadata": {},
   "outputs": [
    {
     "name": "stdout",
     "output_type": "stream",
     "text": [
      "    3.14 ***\n",
      "3.14     ***\n"
     ]
    }
   ],
   "source": [
    "# format number\n",
    "\n",
    "a = 3.1415926\n",
    "s = '3.14'\n",
    "\n",
    "print(f'{a:8.2f}', '***')\n",
    "print(f'{s:8}','***')"
   ]
  },
  {
   "cell_type": "code",
   "execution_count": 3,
   "metadata": {},
   "outputs": [
    {
     "name": "stdout",
     "output_type": "stream",
     "text": [
      "|    1234|\n",
      "|1234    |\n"
     ]
    }
   ],
   "source": [
    "a = 1234\n",
    "s = '1234'\n",
    "print(f'|{a:8}|') # number is right aligned \n",
    "print(f'|{s:8}|') # string is left aligned"
   ]
  },
  {
   "cell_type": "code",
   "execution_count": 5,
   "metadata": {},
   "outputs": [
    {
     "name": "stdout",
     "output_type": "stream",
     "text": [
      "|    1234|\n",
      "|1234    |\n",
      "|  1234  |\n"
     ]
    }
   ],
   "source": [
    "print(f'|{a:>8}|') # right align\n",
    "print(f'|{a:<8}|') # left align\n",
    "print(f'|{a:^8}|') # center align"
   ]
  },
  {
   "cell_type": "code",
   "execution_count": 6,
   "metadata": {},
   "outputs": [
    {
     "name": "stdout",
     "output_type": "stream",
     "text": [
      "    3.14\n",
      "3.14e+00\n",
      " 314.16%\n"
     ]
    }
   ],
   "source": [
    "a = 3.1415926\n",
    "print(f'{a:8.2f}')\n",
    "print(f'{a:8.2e}')\n",
    "print(f'{a:8.2%}')"
   ]
  },
  {
   "cell_type": "code",
   "execution_count": 11,
   "metadata": {},
   "outputs": [
    {
     "name": "stdout",
     "output_type": "stream",
     "text": [
      "Your invoice:\n",
      "product    |    sneaker\n",
      "price      |      20.00\n",
      "VAT        |       2.00\n",
      "Total      |      22.00\n"
     ]
    }
   ],
   "source": [
    "product = input('Enter product:')\n",
    "price = float(input('Enter price'))\n",
    "VAT = price * 10 / 100\n",
    "total = VAT + price\n",
    "a = \"product\"\n",
    "b = \"price\"\n",
    "c = \"VAT\"\n",
    "d = 'Total'\n",
    "print('Your invoice:')\n",
    "print(f'{a:<10} | {product:>10}')\n",
    "print(f'{b:<10} | {price:>10.2f}' )\n",
    "print(f'{c:<10} | {VAT:>10.2f}' )\n",
    "print(f'{d:<10} | {total:>10.2f}')"
   ]
  },
  {
   "cell_type": "code",
   "execution_count": 12,
   "metadata": {},
   "outputs": [
    {
     "name": "stdout",
     "output_type": "stream",
     "text": [
      "hello python world\n",
      "HELLO PYTHON WORLD\n",
      "Hello Python World\n",
      "hELLO PYTHON WORLd\n"
     ]
    }
   ],
   "source": [
    "s = 'Hello python worlD'\n",
    "print(s.lower()) # change all characters to lower case \n",
    "print(s.upper()) # change all characters to upper case\n",
    "print(s.title()) # change first character of each word to upper case\n",
    "print(s.swapcase()) # change upper case to lower case and vice versa "
   ]
  },
  {
   "cell_type": "code",
   "execution_count": 13,
   "metadata": {},
   "outputs": [
    {
     "name": "stdout",
     "output_type": "stream",
     "text": [
      "11\n",
      "J\n",
      "John Lennon is less than or equal to Paul McCartney\n",
      "Paul McCartney\n",
      "John Lennon\n"
     ]
    }
   ],
   "source": [
    "name1 = 'John Lennon'\n",
    "name2 = 'Paul McCartney'\n",
    "print(len(name1)) # length of string\n",
    "print(name1[0]) # First character of string\n",
    "if name1 > name2:\n",
    "    print(name1, 'is greater than', name2)\n",
    "else:\n",
    "    print(name1, 'is less than or equal to', name2)\n",
    "print(max(name1, name2)) # compare two strings, return the greater one\n",
    "print(min(name1, name2)) # compare two strings, return the smaller one"
   ]
  },
  {
   "cell_type": "code",
   "execution_count": 14,
   "metadata": {},
   "outputs": [
    {
     "name": "stdout",
     "output_type": "stream",
     "text": [
      "Hello World\n",
      "HelloHelloHelloHello\n"
     ]
    }
   ],
   "source": [
    "# string operators\" + and *\n",
    "a = 'Hello'\n",
    "b = 'World'\n",
    "s = a + ' '+ b\n",
    "print(s)\n",
    "print(a*4)"
   ]
  },
  {
   "cell_type": "code",
   "execution_count": 15,
   "metadata": {},
   "outputs": [
    {
     "name": "stdout",
     "output_type": "stream",
     "text": [
      "Hello\n",
      "World\n"
     ]
    }
   ],
   "source": [
    "# slicing\n",
    "\n",
    "s = 'Hello World'\n",
    "print(s[:5]) # from beginning to position \n",
    "print(s[-5:]) # from position -5 to the end\n"
   ]
  },
  {
   "cell_type": "code",
   "execution_count": 16,
   "metadata": {},
   "outputs": [
    {
     "name": "stdout",
     "output_type": "stream",
     "text": [
      "Hello World\n",
      "Found hello\n"
     ]
    }
   ],
   "source": [
    "# Check if a string contains a substring\n",
    "\n",
    "print(s) \n",
    "if 'hello' in s.lower():\n",
    "    print('Found hello')"
   ]
  },
  {
   "cell_type": "code",
   "execution_count": 17,
   "metadata": {},
   "outputs": [
    {
     "name": "stdout",
     "output_type": "stream",
     "text": [
      "True\n",
      "False\n",
      "True\n",
      "False\n",
      "False\n",
      "True\n",
      "True\n",
      "False\n"
     ]
    }
   ],
   "source": [
    "# String classification: if a string contains only letters, digits, etc.\n",
    "print('Hello'.isalpha()) # True\n",
    "print('Hello123'.isalpha()) #False\n",
    "print('123'.isdigit()) # True\n",
    "print('123.45'.isdigit()) # False\n",
    "print('123.45'.isdecimal()) # False\n",
    "print('123'.isdecimal()) # True\n",
    "print('123'.isnumeric()) # True\n",
    "print('123.45'.isnumeric()) # False"
   ]
  },
  {
   "cell_type": "code",
   "execution_count": 21,
   "metadata": {},
   "outputs": [
    {
     "name": "stdout",
     "output_type": "stream",
     "text": [
      "l found at position 2\n"
     ]
    }
   ],
   "source": [
    "# Search method: find, startswith, endswith, count\n",
    "s = 'Hello World'\n",
    "msg = input('Enter a sub string:')\n",
    "i = s.find(msg)\n",
    "if i == -1:\n",
    "    print(msg, 'not found')\n",
    "else:\n",
    "    print(msg, 'found at position',i)"
   ]
  },
  {
   "cell_type": "code",
   "execution_count": 22,
   "metadata": {},
   "outputs": [
    {
     "name": "stdout",
     "output_type": "stream",
     "text": [
      "Hello World starts with Hell\n",
      "Hello World end with World\n"
     ]
    }
   ],
   "source": [
    "if s.startswith('Hell'):\n",
    "    print(f'{s} starts with Hell')\n",
    "if s.endswith ('World'):\n",
    "    print(f'{s} end with World')\n"
   ]
  },
  {
   "cell_type": "code",
   "execution_count": 23,
   "metadata": {},
   "outputs": [
    {
     "name": "stdout",
     "output_type": "stream",
     "text": [
      "Hello World contains 3 l\n",
      "Hello World contains 2 o\n"
     ]
    }
   ],
   "source": [
    "print(f'{s} contains {s.count(\"l\")} l')\n",
    "print(f'{s} contains {s.count(\"o\")} o')"
   ]
  },
  {
   "cell_type": "code",
   "execution_count": 24,
   "metadata": {},
   "outputs": [
    {
     "name": "stdout",
     "output_type": "stream",
     "text": [
      "Hello World\n"
     ]
    }
   ],
   "source": [
    "s = '              hello world           '\n",
    "s = s.strip() # remove leading and trailing spaces\n",
    "s = s.title() # change first character of each word to upper case\n",
    "print(s)"
   ]
  },
  {
   "cell_type": "code",
   "execution_count": 25,
   "metadata": {},
   "outputs": [
    {
     "name": "stdout",
     "output_type": "stream",
     "text": [
      "Hello World\n"
     ]
    }
   ],
   "source": [
    "s = '                hello world           '\n",
    "s = s.strip().title()\n",
    "print(s)"
   ]
  },
  {
   "cell_type": "code",
   "execution_count": 26,
   "metadata": {},
   "outputs": [
    {
     "name": "stdout",
     "output_type": "stream",
     "text": [
      "['hello', 'python', 'world']\n"
     ]
    }
   ],
   "source": [
    "s = 'hello python world'\n",
    "s_list = s.split() # split string into a list of words\n",
    "print(s_list)"
   ]
  },
  {
   "cell_type": "code",
   "execution_count": 28,
   "metadata": {},
   "outputs": [
    {
     "name": "stdout",
     "output_type": "stream",
     "text": [
      "['python', 'java', 'c', 'c++', 'c#', 'javascript']\n",
      "There are 6 languages\n"
     ]
    }
   ],
   "source": [
    "languages = 'python,java,c,c++,c#,javascript'\n",
    "lang_list = languages.split(',') # split string into a list of words\n",
    "print(lang_list)\n",
    "print(f'There are {len(lang_list)} languages')"
   ]
  },
  {
   "cell_type": "code",
   "execution_count": 33,
   "metadata": {},
   "outputs": [
    {
     "name": "stdout",
     "output_type": "stream",
     "text": [
      "apple,banana,orange,grape\n"
     ]
    }
   ],
   "source": [
    "# Exercise: Ask user to enter a list of fruits, separated by comma\n",
    "\n",
    "fruits = input('Enter a list of fruits:')\n",
    "print(fruits)"
   ]
  },
  {
   "cell_type": "code",
   "execution_count": 35,
   "metadata": {},
   "outputs": [
    {
     "name": "stdout",
     "output_type": "stream",
     "text": [
      "there are 4 fruits\n"
     ]
    }
   ],
   "source": [
    "# Print how many fruits are there\n",
    "\n",
    "list_fruits = fruits.split(',')\n",
    "print(f'there are {len(list_fruits)} fruits')\n"
   ]
  },
  {
   "cell_type": "code",
   "execution_count": 38,
   "metadata": {},
   "outputs": [
    {
     "name": "stdout",
     "output_type": "stream",
     "text": [
      "It is in the list\n"
     ]
    }
   ],
   "source": [
    "# Ask a favorite fruit, print if it is in the list or not\n",
    "\n",
    "favorite_fruit = input('Enter your favorite fruit:')\n",
    "a = fruits.find(favorite_fruit)\n",
    "if favorite_fruit in fruits:\n",
    "    print('It is in the list')\n",
    "else:\n",
    "    print('It is out of list')"
   ]
  },
  {
   "cell_type": "code",
   "execution_count": null,
   "metadata": {},
   "outputs": [],
   "source": []
  }
 ],
 "metadata": {
  "kernelspec": {
   "display_name": "Python 3",
   "language": "python",
   "name": "python3"
  },
  "language_info": {
   "codemirror_mode": {
    "name": "ipython",
    "version": 3
   },
   "file_extension": ".py",
   "mimetype": "text/x-python",
   "name": "python",
   "nbconvert_exporter": "python",
   "pygments_lexer": "ipython3",
   "version": "3.11.3"
  },
  "orig_nbformat": 4
 },
 "nbformat": 4,
 "nbformat_minor": 2
}
