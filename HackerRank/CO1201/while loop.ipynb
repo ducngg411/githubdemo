{
 "cells": [
  {
   "cell_type": "code",
   "execution_count": 1,
   "metadata": {},
   "outputs": [
    {
     "name": "stdout",
     "output_type": "stream",
     "text": [
      " * * * \n"
     ]
    }
   ],
   "source": [
    "counter = 1\n",
    "output =' '\n",
    "\n",
    "while counter < 4:\n",
    "    output += '* ' # concatenate '*' to output\n",
    "    counter += 1 # increment counter by 1\n",
    "print(output)\n"
   ]
  },
  {
   "cell_type": "code",
   "execution_count": 2,
   "metadata": {},
   "outputs": [
    {
     "name": "stdout",
     "output_type": "stream",
     "text": [
      "****"
     ]
    }
   ],
   "source": [
    "counter = 0\n",
    "while counter < 4:\n",
    "    print('*', end='')\n",
    "    counter += 1"
   ]
  },
  {
   "cell_type": "code",
   "execution_count": 5,
   "metadata": {},
   "outputs": [
    {
     "name": "stdout",
     "output_type": "stream",
     "text": [
      "Product: Pen Sold: 10 Price 10000.0\n",
      "Product: Mouse Sold: 1000 Price 2000000.0\n",
      "Product: 10000 Sold: 2000 Price 20000.0\n",
      "Total income 2040100000.0\n"
     ]
    }
   ],
   "source": [
    "# while scenario 1 : asking user to continue\n",
    "stop = False\n",
    "total_income = 0\n",
    "\n",
    "while not stop:\n",
    "    product = input('Enter product: ')\n",
    "    sold = int(input('Enter sold: '))\n",
    "    price = float(input('Enter price: '))\n",
    "    print('Product:', product, 'Sold:', sold, 'Price', price)\n",
    "\n",
    "    total_income += sold * price\n",
    "\n",
    "    answer = input('Continue? (y/n)')\n",
    "    stop =  answer == 'n'\n",
    "\n",
    "print('Total income', total_income)"
   ]
  },
  {
   "cell_type": "code",
   "execution_count": 7,
   "metadata": {},
   "outputs": [
    {
     "name": "stdout",
     "output_type": "stream",
     "text": [
      "Name: duc nguyen Age: 10\n"
     ]
    }
   ],
   "source": [
    "# while scenario 2: validating input\n",
    "valid_input = False\n",
    "while valid_input == False:\n",
    "    name = input('Enter name: ')\n",
    "    age = int(input('Enter age: '))\n",
    "    if age < 0 or age > 120: \n",
    "        print('Invalid age')\n",
    "    valid_input = age >= 0\n",
    "print('Name:', name, 'Age:', age)"
   ]
  }
 ],
 "metadata": {
  "kernelspec": {
   "display_name": "Python 3",
   "language": "python",
   "name": "python3"
  },
  "language_info": {
   "codemirror_mode": {
    "name": "ipython",
    "version": 3
   },
   "file_extension": ".py",
   "mimetype": "text/x-python",
   "name": "python",
   "nbconvert_exporter": "python",
   "pygments_lexer": "ipython3",
   "version": "3.11.3"
  },
  "orig_nbformat": 4
 },
 "nbformat": 4,
 "nbformat_minor": 2
}
