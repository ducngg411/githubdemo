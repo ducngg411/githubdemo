{
 "cells": [
  {
   "cell_type": "code",
   "execution_count": 1,
   "metadata": {},
   "outputs": [
    {
     "name": "stdout",
     "output_type": "stream",
     "text": [
      "23\n"
     ]
    }
   ],
   "source": [
    "nums = [\"1\", \"2\", \"3\", \"4\", \"5\"]\n",
    "print(nums[1] + nums[2])"
   ]
  },
  {
   "cell_type": "code",
   "execution_count": 4,
   "metadata": {},
   "outputs": [
    {
     "name": "stdout",
     "output_type": "stream",
     "text": [
      "12\n"
     ]
    }
   ],
   "source": [
    "def f1():\n",
    "    result = f2(4)\n",
    "    print(result)\n",
    "\n",
    "def f2(par):\n",
    "    if par < 3 :\n",
    "        return par\n",
    "    elif par == 3:\n",
    "        return par * 2\n",
    "    else: \n",
    "        return par * 3\n",
    "    \n",
    "\n",
    "f1()"
   ]
  },
  {
   "cell_type": "markdown",
   "metadata": {},
   "source": [
    "helloWord = [\"Hello\", \"world\" , \"!\"]"
   ]
  },
  {
   "cell_type": "code",
   "execution_count": 5,
   "metadata": {},
   "outputs": [
    {
     "ename": "IndexError",
     "evalue": "list index out of range",
     "output_type": "error",
     "traceback": [
      "\u001b[1;31m---------------------------------------------------------------------------\u001b[0m",
      "\u001b[1;31mIndexError\u001b[0m                                Traceback (most recent call last)",
      "Cell \u001b[1;32mIn[5], line 2\u001b[0m\n\u001b[0;32m      1\u001b[0m helloWord \u001b[39m=\u001b[39m [\u001b[39m\"\u001b[39m\u001b[39mHello\u001b[39m\u001b[39m\"\u001b[39m, \u001b[39m\"\u001b[39m\u001b[39mworld\u001b[39m\u001b[39m\"\u001b[39m , \u001b[39m\"\u001b[39m\u001b[39m!\u001b[39m\u001b[39m\"\u001b[39m]\n\u001b[1;32m----> 2\u001b[0m \u001b[39mprint\u001b[39m(helloWord[\u001b[39m3\u001b[39;49m])\n",
      "\u001b[1;31mIndexError\u001b[0m: list index out of range"
     ]
    }
   ],
   "source": [
    "helloWord = [\"Hello\", \"world\" , \"!\"]\n",
    "print(helloWord[3])"
   ]
  },
  {
   "cell_type": "code",
   "execution_count": 10,
   "metadata": {},
   "outputs": [
    {
     "name": "stdout",
     "output_type": "stream",
     "text": [
      "  1   2   3   4   5 \n",
      "  2   4   6   8  10 \n",
      "  3   6   9  12  15 \n",
      "  4   8  12  16  20 \n"
     ]
    }
   ],
   "source": [
    "n = 4\n",
    "for i in range(1, n+1):\n",
    "    output = \"\"\n",
    "    for j in range(1, 6):\n",
    "        if j * i < 10:\n",
    "            output += \" \"\n",
    "        output += f\" {j * i} \"\n",
    "    print(output)"
   ]
  },
  {
   "cell_type": "code",
   "execution_count": 12,
   "metadata": {},
   "outputs": [
    {
     "name": "stdout",
     "output_type": "stream",
     "text": [
      "The value of sum = 9\n"
     ]
    }
   ],
   "source": [
    "sum = 0\n",
    "for count in range(3):\n",
    "    sum = sum + 3\n",
    "print(f\"The value of sum = {sum}\")"
   ]
  },
  {
   "cell_type": "code",
   "execution_count": 16,
   "metadata": {},
   "outputs": [
    {
     "ename": "SyntaxError",
     "evalue": "'return' outside function (4176337652.py, line 4)",
     "output_type": "error",
     "traceback": [
      "\u001b[1;36m  Cell \u001b[1;32mIn[16], line 4\u001b[1;36m\u001b[0m\n\u001b[1;33m    return\u001b[0m\n\u001b[1;37m    ^\u001b[0m\n\u001b[1;31mSyntaxError\u001b[0m\u001b[1;31m:\u001b[0m 'return' outside function\n"
     ]
    }
   ],
   "source": [
    "number = int(input(\"How many tickets? \"))\n",
    "if number <= 0:\n",
    "    print(\"Please enter a positive number\")\n",
    "    return\n",
    "cost = 0\n",
    "type = input(\"What type? \")\n",
    "if type == \"S\": # Standard\n",
    "    ost = 8\n",
    "elif type == \"C\": # Concession\n",
    "    cost = 6\n",
    "elif type == \"P\": # Premium\n",
    "    cost = 10\n",
    "else:\n",
    "    print(f\"Ticket type {type} unrecognised\")\n",
    "    return\n",
    "if number > 5: # discount\n",
    "    cost -= 1\n",
    "cost *= number\n",
    "print(f\"That will be £{cost:.2f}\")"
   ]
  }
 ],
 "metadata": {
  "kernelspec": {
   "display_name": "Python 3",
   "language": "python",
   "name": "python3"
  },
  "language_info": {
   "codemirror_mode": {
    "name": "ipython",
    "version": 3
   },
   "file_extension": ".py",
   "mimetype": "text/x-python",
   "name": "python",
   "nbconvert_exporter": "python",
   "pygments_lexer": "ipython3",
   "version": "3.11.3"
  },
  "orig_nbformat": 4
 },
 "nbformat": 4,
 "nbformat_minor": 2
}
